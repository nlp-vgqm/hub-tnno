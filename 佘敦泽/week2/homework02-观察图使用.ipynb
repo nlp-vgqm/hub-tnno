{
 "cells": [
  {
   "cell_type": "code",
   "execution_count": 1,
   "id": "c58fb71d364e1e8a",
   "metadata": {},
   "outputs": [],
   "source": [
    "# coding:utf8"
   ]
  },
  {
   "cell_type": "code",
   "execution_count": 2,
   "id": "initial_id",
   "metadata": {},
   "outputs": [],
   "source": [
    "import os\n",
    "os.environ['KMP_DUPLICATE_LIB_OK'] = 'TRUE'"
   ]
  },
  {
   "cell_type": "code",
   "execution_count": 3,
   "id": "9cd589aa1c02d87d",
   "metadata": {},
   "outputs": [],
   "source": [
    "import torch\n",
    "import torch.nn as nn\n",
    "import numpy as np\n",
    "import random\n",
    "import json\n",
    "import matplotlib.pyplot as plt"
   ]
  },
  {
   "cell_type": "markdown",
   "id": "e0c80194c877da99",
   "metadata": {},
   "source": [
    "定义模型"
   ]
  },
  {
   "cell_type": "code",
   "execution_count": 4,
   "id": "ca262120cf430d7a",
   "metadata": {},
   "outputs": [],
   "source": [
    "class TorchModel(nn.Module):\n",
    "    def __init__(self, input_size, num_classes=5):\n",
    "        super(TorchModel, self).__init__()\n",
    "        self.linear = nn.Linear(input_size, num_classes)  # 线性层\n",
    "        # self.activation = torch.sigmoid  # nn.Sigmoid() sigmoid归一化函数 -- 多分类不需要 sigmoid 激活函数\n",
    "        # self.loss = nn.functional.mse_loss  # loss函数采用均方差损失\n",
    "        self.loss = nn.functional.cross_entropy  # 交叉熵损失函数\n",
    "\n",
    "    # 当输入真实标签，返回loss值；无真实标签，返回预测值\n",
    "    def forward(self, x, y=None):\n",
    "        y_pred = self.linear(x)  # (batch_size, input_size) -> (batch_size, num_classes)\n",
    "        if y is not None:\n",
    "            return self.loss(y_pred, y)  # 预测值和真实值计算损失\n",
    "        else:\n",
    "            return y_pred  # 输出预测结果"
   ]
  },
  {
   "cell_type": "markdown",
   "id": "8e8c6c7958aaa49e",
   "metadata": {},
   "source": [
    "定义生成测试样本"
   ]
  },
  {
   "cell_type": "code",
   "execution_count": 5,
   "id": "b02812c05364f5e5",
   "metadata": {},
   "outputs": [],
   "source": [
    "# 生成一个样本, 样本的生成方法，代表了我们要学习的规律\n",
    "# 随机生成一个5维向量，如果第一个值大于第五个值，认为是正样本，反之为负样本\n",
    "def build_sample():\n",
    "    x = np.random.random(5)\n",
    "    # if x[0] > x[4]:\n",
    "    #     return x, 1\n",
    "    # else:\n",
    "    #     return x, 0\n",
    "    return x, np.argmax(x) # 输出测试数据、和最大值标签\n",
    "\n",
    "\n",
    "# 随机生成一批样本\n",
    "# 正负样本均匀生成\n",
    "def build_dataset(total_sample_num):\n",
    "    X = []\n",
    "    Y = []\n",
    "    for i in range(total_sample_num):\n",
    "        x, y = build_sample()\n",
    "        X.append(x)\n",
    "        Y.append(y)\n",
    "    # print(X)\n",
    "    # print(Y)\n",
    "    return torch.FloatTensor(X), torch.LongTensor(Y)"
   ]
  },
  {
   "cell_type": "markdown",
   "id": "ba92d875f2202a72",
   "metadata": {},
   "source": [
    "定义评估函数"
   ]
  },
  {
   "cell_type": "code",
   "execution_count": 6,
   "id": "ff95dacfb4cf20d2",
   "metadata": {},
   "outputs": [],
   "source": [
    "# 测试代码\n",
    "# 用来测试每轮模型的准确率\n",
    "def evaluate(model):\n",
    "    model.eval()\n",
    "    test_sample_num = 100\n",
    "    x, y = build_dataset(test_sample_num)\n",
    "    # print(\"本次评估生成的样本中, 各个类别的数量为: \", [sum(y == i) for i in range(5)]) # 5分类 # 日志, 需要观察的时候打开\n",
    "    correct, wrong = 0, 0\n",
    "    with torch.no_grad():\n",
    "        y_pred = model(x)  # 模型预测 model.forward(x)\n",
    "        pred_cls = torch.argmax(y_pred, dim=1)\n",
    "        correct = (pred_cls == y).sum().item()\n",
    "        wrong = test_sample_num - correct\n",
    "\n",
    "        # for y_p, y_t in zip(y_pred, y):  # 与真实标签进行对比\n",
    "        #     if float(y_p) < 0.5 and int(y_t) == 0:\n",
    "        #         correct += 1  # 负样本判断正确\n",
    "        #     elif float(y_p) >= 0.5 and int(y_t) == 1:\n",
    "        #         correct += 1  # 正样本判断正确\n",
    "        #     else:\n",
    "        #         wrong += 1\n",
    "    # print(\"正确预测个数：%d, 正确率：%f\" % (correct, correct / (correct + wrong))) # 日志, 需要观察的时候打开\n",
    "    return correct / (correct + wrong)"
   ]
  },
  {
   "cell_type": "markdown",
   "id": "1fdf20f5b6aaf00a",
   "metadata": {},
   "source": [
    "训练测试方法"
   ]
  },
  {
   "cell_type": "code",
   "execution_count": 10,
   "id": "7c23712e7dd1bab4",
   "metadata": {},
   "outputs": [],
   "source": [
    "def main():\n",
    "    # 配置参数\n",
    "    epoch_num = 100  # 训练轮数\n",
    "    batch_size = 20  # 每次训练样本个数\n",
    "    train_sample = 5000  # 每轮训练总共训练的样本总数\n",
    "    input_size = 5  # 输入向量维度\n",
    "    learning_rate = 0.001  # 学习率\n",
    "    num_classes = 5 # 设置为5个分类\n",
    "    # 建立模型\n",
    "    model = TorchModel(input_size, num_classes)\n",
    "    # 选择优化器\n",
    "    optim = torch.optim.Adam(model.parameters(), lr=learning_rate)\n",
    "    log = []\n",
    "    # 创建训练集，正常任务是读取训练集\n",
    "    train_x, train_y = build_dataset(train_sample)\n",
    "    # 训练过程\n",
    "    for epoch in range(epoch_num):\n",
    "        model.train()\n",
    "        watch_loss = []\n",
    "        for batch_index in range(train_sample // batch_size):\n",
    "            #取出一个batch数据作为输入   train_x[0:20]  train_y[0:20] train_x[20:40]  train_y[20:40]\n",
    "            x = train_x[batch_index * batch_size : (batch_index + 1) * batch_size]\n",
    "            y = train_y[batch_index * batch_size : (batch_index + 1) * batch_size]\n",
    "            loss = model(x, y)  # 计算loss  model.forward(x,y)\n",
    "            loss.backward()  # 计算梯度\n",
    "            optim.step()  # 更新权重\n",
    "            optim.zero_grad()  # 梯度归零\n",
    "            watch_loss.append(loss.item())\n",
    "        # print(\"=========\\n第%d轮平均loss:%f\" % (epoch + 1, np.mean(watch_loss))) # 日志, 需要的时候打开\n",
    "        acc = evaluate(model)  # 测试本轮模型结果\n",
    "        log.append([acc, float(np.mean(watch_loss))])\n",
    "    # 保存模型\n",
    "    torch.save(model.state_dict(), \"model_multi.bin\")\n",
    "    # 画图\n",
    "    # print(log)\n",
    "    plt.plot(range(len(log)), [l[0] for l in log], label=\"acc\")  # 画acc曲线\n",
    "    plt.plot(range(len(log)), [l[1] for l in log], label=\"loss\")  # 画loss曲线\n",
    "    plt.legend()\n",
    "    plt.show()\n",
    "    return"
   ]
  },
  {
   "cell_type": "code",
   "execution_count": 11,
   "id": "115adbf5a9ef57bf",
   "metadata": {},
   "outputs": [
    {
     "data": {
      "image/png": "[encoded data removed]",
      "text/plain": [
       "<Figure size 640x480 with 1 Axes>"
      ]
     },
     "metadata": {},
     "output_type": "display_data"
    }
   ],
   "source": [
    "main()"
   ]
  },
  {
   "cell_type": "markdown",
   "id": "beba2c78304cc561",
   "metadata": {},
   "source": [
    "数据预测"
   ]
  },
  {
   "cell_type": "code",
   "execution_count": 9,
   "id": "db711743dce68832",
   "metadata": {},
   "outputs": [
    {
     "name": "stdout",
     "output_type": "stream",
     "text": [
      "OrderedDict({'linear.weight': tensor([[ 7.1739, -2.9054, -2.9113, -2.8540, -2.8773],\n",
      "        [-3.1815,  7.6638, -3.0686, -3.1162, -2.9659],\n",
      "        [-2.8814, -2.6886,  7.2160, -2.9308, -2.8267],\n",
      "        [-3.0486, -2.7675, -3.1008,  7.4079, -2.8887],\n",
      "        [-2.9499, -2.7869, -2.9996, -3.0059,  7.4168]]), 'linear.bias': tensor([-0.1598, -0.0814, -0.2486, -0.0633, -0.1873])})\n",
      "输入：[0.07889086, 0.15229675, 0.31082123, 0.03504317, 0.88920843], 预测类别：4, 概率分布：[2.4453684e-04 5.0960138e-04 2.5410657e-03 1.6417050e-04 9.9654061e-01]\n",
      "输入：[0.74963533, 0.5524256, 0.95758807, 0.95520434, 0.84890681], 预测类别：2, 概率分布：[0.04827421 0.00473459 0.4187991  0.40239352 0.12579863]\n",
      "输入：[0.90797868, 0.67482528, 0.13625847, 0.34675372, 0.19871392], 预测类别：0, 概率分布：[9.0646857e-01 8.8937700e-02 4.0672548e-04 3.4818032e-03 7.0518185e-04]\n",
      "输入：[0.99349776, 0.59416669, 0.92579291, 0.41567412, 0.1358894], 预测类别：0, 概率分布：[6.3806653e-01 9.6021555e-03 3.5046399e-01 1.7672825e-03 9.9990117e-05]\n"
     ]
    }
   ],
   "source": [
    "# 使用训练好的模型做预测\n",
    "def predict(model_path, input_vec):\n",
    "    input_size = 5\n",
    "    num_classes = 5 # 和训练使用相同的分类数目\n",
    "    model = TorchModel(input_size, num_classes)\n",
    "    model.load_state_dict(torch.load(model_path, weights_only=True))  # 加载训练好的权重\n",
    "    print(model.state_dict()) # 输出模型 w、b 参数\n",
    "\n",
    "    model.eval()  # 测试模式\n",
    "    with torch.no_grad():  # 不计算梯度\n",
    "        result = model.forward(torch.FloatTensor(input_vec))  # 模型预测\n",
    "        probs = torch.softmax(result, dim=1)\n",
    "        probs_cls = torch.argmax(probs, dim=1)\n",
    "    for vec, cls, prob in zip(input_vec, probs_cls, probs):\n",
    "        print(\"输入：%s, 预测类别：%d, 概率分布：%s\" % (vec, cls.item(), prob.numpy()))  # 打印结果\n",
    "\n",
    "test_vec = [[0.07889086,0.15229675,0.31082123,0.03504317,0.88920843],\n",
    "            [0.74963533,0.5524256,0.95758807,0.95520434,0.84890681],\n",
    "            [0.90797868,0.67482528,0.13625847,0.34675372,0.19871392],\n",
    "            [0.99349776,0.59416669,0.92579291,0.41567412,0.1358894]]\n",
    "predict(\"model_multi.bin\", test_vec)"
   ]
  },
  {
   "cell_type": "code",
   "execution_count": null,
   "id": "948c422c-27c5-4255-8ffa-e4a45af3fac9",
   "metadata": {},
   "outputs": [],
   "source": []
  }
 ],
 "metadata": {
  "kernelspec": {
   "display_name": "Python 3 (ipykernel)",
   "language": "python",
   "name": "python3"
  },
  "language_info": {
   "codemirror_mode": {
    "name": "ipython",
    "version": 3
   },
   "file_extension": ".py",
   "mimetype": "text/x-python",
   "name": "python",
   "nbconvert_exporter": "python",
   "pygments_lexer": "ipython3",
   "version": "3.12.11"
  }
 },
 "nbformat": 4,
 "nbformat_minor": 5
}
